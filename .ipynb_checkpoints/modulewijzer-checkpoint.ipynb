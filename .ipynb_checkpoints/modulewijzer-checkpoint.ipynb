{
 "cells": [
  {
   "cell_type": "markdown",
   "metadata": {},
   "source": [
    "# Development 1"
   ]
  },
  {
   "cell_type": "markdown",
   "metadata": {},
   "source": [
    "## Introduction\n",
    "This is the course descriptor for the _Development 1_ course.\n",
    "\n",
    "Development 1 covers a basic introduction to computational concepts needed to learn programming languages in general. The course opens with a description of computations as transitions in a state machine, defining what _state_ means and what for operations can be performed on it; the course then moves on to defining statements and expressions, their basic syntax, and their semantics as manipulation of the state that also alters the current program in order to store progress in the program itself.\n",
    "\n",
    "An important reminder: the course (nor the Informatica degree of Hogeschool Rotterdam, for that matter) is not meant to provide students with a series of tips and tricks to be quickly successful at one's job. Rather, the course aims to build a solid foundation upon which learning of all sorts of programming languages will be based. This *will*, without a doubt, prepare students not only for their first professional tasks, but for all their evolutions. Moreover, understanding of these concepts will allow students to wield their professional tools (programming languages) with certainty instead of intuition, thereby greatly increasing the quality of what they deliver and their value on the job market."
   ]
  },
  {
   "cell_type": "markdown",
   "metadata": {},
   "source": [
    "### Learning goals\n",
    "The course has the following learning goals:\n",
    "- (TH1) students can _recognize and formally interpret_ components of a programming language: statements and expressions, state, transitions, and the denotational definition of semantics;\n",
    "- (PR1) students _understand code_; _understand_ here means that students can describe the effect of running the program by predicting the sequence of state transitions produced by its execution;\n",
    "- (PR2) students can _write small snippets of code_ in order to complete an existing program, from a clearly given specification of the state transitions that the completed program is expected to perform.\n",
    "\n",
    "The course, and therefore also the learning goals, are limited to simple imperative programs and the following Python 3 statements and expressions: `if`, `while`, `=`, `+`, `-`, `/`, `//`, `*`, `str`, `print`."
   ]
  },
  {
   "cell_type": "markdown",
   "metadata": {},
   "source": [
    "### Exam\n",
    "The exam is divided in two parts:\n",
    "#### Theory\n",
    "- (FA) a series of five (5) *forward assignments*, that is exercises where students, given full code and partial state transitions produced by the code, are requested to predict the missing state transitions the code will produce;\n",
    "- (MC) a series of ten (10) *multiple choice* questions on the formal interpretation of state transitions induced by statements, expression evaluation, and state manipulation.\n",
    "\n",
    "#### Practice\n",
    "- (BA) a series of five (5) *backward assignments*, that is exercises where students, given partial code and the desired state transitions, are requested to fill in the missing code that matches the given state transitions.\n",
    "\n",
    "#### Scoring\n",
    "The theory results in a grade which is either PASS or FAIL. Each question awards one single point, if correctly answered. Students who score at least 55% of the total points will get a passing grade (PASS). For example, if the theory exam is made up by 15 questions in total, then a student needs to answer correctly at least 9 questions (since 8/15 = 53% and 9/15 = 60%) to get a PASS.\n",
    "\n",
    "The practice results in a full grade (from 0 to 10). Each assignment awards one single point, if correctly completed. The grade is computed as the percentage of points obtained, divided by 10. Students who score at least 55% of the total points will get a passing grade. For example, if a student completes 3 assignments out of 5, this means obtaining 3 points out of 5, which means 60% and corresponds thus to a 6 (60/10).\n",
    "\n",
    "The final grade is the grade of the practice, *if and only if* the theory was passed. If the theory is not passed, the final grade is insufficient (0).\n",
    "\n",
    "Notice that, even though there are more FA's and MC's than BA's, the BA's require actively _writing code_, which is significantly more complex than reading code and describing states and bindings, seen that it combines technical understanding and creativity.\n",
    "\n",
    "#### Retake\n",
    "If only one of the exam parts is passed, then only the other will need to be retaken during the current schoolyear. Partial grades are not kept after the end of a scholastic year.\n",
    "\n",
    "#### Exam matrix\n",
    "The exam covers all learning goals.\n",
    "\n",
    "| Exam part     | TH1           | PR1           | PR2           |\n",
    "| ------------- |:-------------:|:-------------:|:-------------:|\n",
    "| FA            |               | V             |               |\n",
    "| MC            | V             |               |               |\n",
    "| BA            |               |               | V             |\n"
   ]
  },
  {
   "cell_type": "markdown",
   "metadata": {},
   "source": [
    "## Lecture plan\n",
    "The course is made up of eight lectures and practicums. The lectures begin with an introduction of the basic concepts, which are then elaborated during the practicums. The lectures handle the theory, plus applied examples. The applied examples are then further elaborated during the practicums."
   ]
  },
  {
   "cell_type": "markdown",
   "metadata": {},
   "source": [
    "## Study points and contact time\n",
    "The course awards students 4 ECTS, in correspondence with 112 hours of student.\n",
    "\n",
    "The course consists of eight frontal lectures for the theory, and eight assisted practicums. The rest is self study."
   ]
  }
 ],
 "metadata": {
  "kernelspec": {
   "display_name": "Python 3",
   "language": "python",
   "name": "python3"
  },
  "language_info": {
   "codemirror_mode": {
    "name": "ipython",
    "version": 3
   },
   "file_extension": ".py",
   "mimetype": "text/x-python",
   "name": "python",
   "nbconvert_exporter": "python",
   "pygments_lexer": "ipython3",
   "version": "3.6.1"
  }
 },
 "nbformat": 4,
 "nbformat_minor": 1
}
