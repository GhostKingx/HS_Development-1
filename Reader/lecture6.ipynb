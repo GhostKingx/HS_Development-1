{
 "cells": [
  {
   "cell_type": "markdown",
   "metadata": {},
   "source": [
    "# Introduction to Python"
   ]
  },
  {
   "cell_type": "markdown",
   "metadata": {},
   "source": [
    "What we have seen so far are programs written in a simplified programming language which does not exist. We have done this on purpose: programming concepts can be learned outside of the strict boundaries of a programming language, which, like all works of engineering, is built with practical issues in mind instead of a clean design (there are exceptions to this rule: languages such as Haskell which are built without making any discounts to a perfect theoretical quality). This results in lots of programming languages which embody many compromises made by their creators. Such compromises are sometimes needed in order to be able to quickly add a feature to the language, without spending weeks or months thinking about all the ramifications of such a feature. The issue with this sort of compromise becomes clear when programmers building complex software start encountering bug-prone paradigms, strange limitations, very unclear error messages, or outright unexpected behaviours.\n",
    "\n",
    "Of course, if we want to actually build actual software for the real world, these compromises are needed, so that we can get on with building while scientists look for ways to build the next generation of programming languages without the current generation of compromises. This leaves us with a difficult situation when trying to learn programming: if we never move on to a concrete programming language, then we cannot experience true programming, but if we move on too soon to a language, then we end up learning both concepts and quirks at the same conceptual level. This leads to programmers (true story!) who become addicted to the quirks of their programming language of choice, to the point that they start believing that those quirks are actually as important as the concepts themselves.\n",
    "\n",
    "A simple, yet illustrative, example is conditional statements and conditional expressions. Many programming language architects see the two as separate concepts, and provide different syntaxes for conditional statements and expressions. Usually, conditional statements all look very similar, whereas expressions are often discovered later and assume the strangest forms:\n",
    "\n",
    " Language     | Conditional statement  | Conditional expression\n",
    ":------------:|:----------------------:|:---------------------------:\n",
    "C family      | `if (C) { P } else { Q }` | `C ? P : Q`             |\n",
    "Python        | `if C: P else: Q`      | `P if C else Q`             |\n",
    "\n",
    "If we observe the semantics of both conditional expressions and statements, then we will notice that they both work exactly in the same way: they only choose one of the branches, while only reading from the state. There is no actual difference in the semantics of the two, and so the language syntax should reflect this similarity. Indeed, in more advanced (but also more complex) languages, we get a unified syntax:\n",
    "\n",
    " Language     | Conditional statement  | Conditional expression\n",
    ":------------:|:----------------------:|:---------------------------:\n",
    "ML            | `if C then P else Q`   | `if C then P else Q`       |\n",
    "Haskell       | `if C then P else Q`   | `if C then P else Q`       |\n",
    "\n",
    "\n",
    "In our virtual language we have, so far, done our best to focus on the concepts without being bothered by quirks such as the one above. It is now time to bridge the gap and provide a translation between the formalisms of our virtual language and Python.\n",
    "\n",
    "\n",
    "## Python syntax\n",
    "The most evident difference is that assignment in Python uses the traditional overridden mathematical equality symbol:\n",
    "\n",
    "```\n",
    "V = E\n",
    "```\n",
    "\n",
    "assigns the value of expression `E` to variable `V`. In our virtual language we used `:=`, in order to avoid writing mathematical nonsense such as `x = x + 1` in our programs. The mathematical nonsense is simply accepted in Python.\n",
    "\n",
    "Expressions are essentially the same as what we have seen so far on paper: \n",
    "- `A + B`\n",
    "- `A - B`\n",
    "- `A * B`\n",
    "- `A // B` (integer)\n",
    "- `A / B` (float)\n",
    "- `A % B`\n",
    "- `-A` (negation)\n",
    "- `A and B`\n",
    "- `A or B`\n",
    "- `not A`\n",
    "- `P if C else Q` (conditional)\n",
    "\n",
    "Operator precedence is also the very same we have seen so far: first come negation, then multiplication and division, then sum and subtraction, then comparisons, then `not`, then `and`, then `or`, and finally conditional expressions. Thanks to such precedence rules, we can simply write:\n",
    "\n",
    "```\n",
    "x > y and x * 2 + 1 < z\n",
    "```\n",
    "\n",
    "without having to add parentheses such as:\n",
    "\n",
    "```\n",
    "(x > y) and ((x * 2 + 1) < z)\n",
    "```\n",
    "\n",
    "which would be very cumbersome. It happens quite rarely that we want comparison or boolean operators to mix with the inner portion of an arithmetic expression, but should the need arise then we will always be able to fix the issue with explicit parenthesization. Further yet, all of these operations should happen *before* we perform a conditional check, and as such the conditional operator has the lowest priority of all.\n",
    "\n",
    "By means of `print` we can print something to the Python console, which is very handy to check the results of a computation, but less used in real-life (outside of debugging at the very least).\n",
    "\n",
    "We could try printing out a few expressions in order to see what happens when we combine them:"
   ]
  },
  {
   "cell_type": "code",
   "execution_count": 1,
   "metadata": {},
   "outputs": [
    {
     "name": "stdout",
     "output_type": "stream",
     "text": [
      "True\n",
      "False\n",
      "False\n",
      "True\n",
      "True\n",
      "True\n",
      "13\n",
      "2\n",
      "2.5\n"
     ]
    }
   ],
   "source": [
    "print(True and True)\n",
    "print(True and False)\n",
    "print(not True and False)\n",
    "print(not (True and False))\n",
    "print(True or True)\n",
    "print(True or False)\n",
    "print(3 + 2 * 5)\n",
    "print(5 // 2)\n",
    "print(5 / 2)"
   ]
  },
  {
   "cell_type": "code",
   "execution_count": 2,
   "metadata": {},
   "outputs": [
    {
     "name": "stdout",
     "output_type": "stream",
     "text": [
      "False\n"
     ]
    }
   ],
   "source": [
    "x = 5\n",
    "y = 10\n",
    "z = 15\n",
    "print((x > y) and ((x * 2 + 1) < z))"
   ]
  },
  {
   "cell_type": "markdown",
   "metadata": {},
   "source": [
    "We can read input with the `input()` expression. For example:"
   ]
  },
  {
   "cell_type": "code",
   "execution_count": 3,
   "metadata": {},
   "outputs": [
    {
     "name": "stdout",
     "output_type": "stream",
     "text": [
      "200\n",
      "200\n"
     ]
    }
   ],
   "source": [
    "print(input())"
   ]
  },
  {
   "cell_type": "markdown",
   "metadata": {},
   "source": [
    "When we want to convert a string to another datatype, we can use operators such as `int` and `float`, whereas the opposite conversion (*to* string instead of *from* string) is done by means of `str`:"
   ]
  },
  {
   "cell_type": "code",
   "execution_count": 5,
   "metadata": {},
   "outputs": [
    {
     "name": "stdout",
     "output_type": "stream",
     "text": [
      "120\n",
      "True\n",
      "12.5\n",
      "14\n"
     ]
    }
   ],
   "source": [
    "print(int(\"120\"))\n",
    "print(bool(\"True\"))\n",
    "print(float(\"12.5\"))\n",
    "print(str(12 + 2))"
   ]
  },
  {
   "cell_type": "markdown",
   "metadata": {},
   "source": [
    "Conditionals use the colon as a delimiter and do not require to write `then`; where we wrote \n",
    "\n",
    "```\n",
    "if C then\n",
    "  P\n",
    "else \n",
    "  Q\n",
    "```\n",
    "\n",
    "We now write:\n",
    "\n",
    "```\n",
    "if C:\n",
    "  P\n",
    "else:\n",
    "  Q\n",
    "```\n",
    "\n",
    "Indentation is the fundamental mechanism to define the boundaries of the branches of a conditional.\n",
    "\n",
    "\n",
    "A simple example of a conditional statement could therefore be:"
   ]
  },
  {
   "cell_type": "code",
   "execution_count": 4,
   "metadata": {},
   "outputs": [
    {
     "name": "stdout",
     "output_type": "stream",
     "text": [
      "20\n",
      ":(\n"
     ]
    }
   ],
   "source": [
    "x = input()\n",
    "if x == \"hello\":\n",
    "    print(\"world\")\n",
    "else:\n",
    "    print(\":(\")"
   ]
  },
  {
   "cell_type": "markdown",
   "metadata": {},
   "source": [
    "Let us now consider building a very simple interactive calculator. A calculator is capable of performing an operation on one or two operands. Depending on the first input, which is the operation, we can then read the number of operands required and then perform the operation. A conditional on the operation will therefore be needed in order to properly handle the operation.\n",
    "\n",
    "This results in the following program:"
   ]
  },
  {
   "cell_type": "code",
   "execution_count": 7,
   "metadata": {},
   "outputs": [
    {
     "name": "stdout",
     "output_type": "stream",
     "text": [
      "insert the operation (+,-,*,/,neg)\n",
      "neg\n",
      "insert the first operand\n",
      "5\n",
      "-5 -> -5\n"
     ]
    }
   ],
   "source": [
    "op = input(\"insert the operation (+,-,*,/,neg)\\n\")\n",
    "n = int(input(\"insert the first operand\\n\"))\n",
    "if op == \"+\":\n",
    "    m = int(input(\"insert the second operand\\n\"))\n",
    "    res = n + m\n",
    "    print(str(n) + op + str(m) + \" -> \" + str(res))\n",
    "elif op == \"-\":\n",
    "    m = int(input(\"insert the second operand\\n\"))\n",
    "    res = n - m\n",
    "    print(str(n) + op + str(m) + \" -> \" + str(res))\n",
    "elif op == \"*\":\n",
    "    m = int(input(\"insert the second operand\\n\"))\n",
    "    res = n * m\n",
    "    print(str(n) + op + str(m) + \" -> \" + str(res))\n",
    "elif op == \"/\":\n",
    "    m = int(input(\"insert the second operand\\n\"))\n",
    "    res = n // m\n",
    "    print(str(n) + op + str(m) + \" -> \" + str(res))\n",
    "elif op == \"neg\":\n",
    "    res = -n\n",
    "    print(\"neg(\" + str(n) + \") -> \" + str(res))\n"
   ]
  },
  {
   "cell_type": "markdown",
   "metadata": {},
   "source": [
    "Loops also look very similar to the ones we have seen so far. The only minor differences are that instead of `do` we write a colon `:`. The following structure:\n",
    "\n",
    "```\n",
    "while C do\n",
    "  B\n",
    "```\n",
    "\n",
    "is mirrored, in Python, by the very similar:\n",
    "\n",
    "```\n",
    "while C:\n",
    "  B\n",
    "```"
   ]
  },
  {
   "cell_type": "markdown",
   "metadata": {},
   "source": [
    "Let us see a couple of examples of loops. Suppose we want to count how many times we can divide a number by another. For example, to discover how many times we could divide something by two. The we would need to perform the division in a loop, and stop when we cannot divide anymore. This is called _logarithm_, or $\\log_b(a)$:"
   ]
  },
  {
   "cell_type": "code",
   "execution_count": 9,
   "metadata": {},
   "outputs": [
    {
     "name": "stdout",
     "output_type": "stream",
     "text": [
      "insert the number to divide\n",
      "4\n",
      "insert the divisor\n",
      "2\n",
      "log_2(4) = 2\n"
     ]
    }
   ],
   "source": [
    "n = int(input(\"insert the number to divide\\n\"))\n",
    "b = int(input(\"insert the divisor\\n\"))\n",
    "i = 0\n",
    "m = n\n",
    "while m >= b:\n",
    "  m = m // b\n",
    "  i = i + 1\n",
    "print(\"log_\"+ str(b) + \"(\" + str(n) + \") -> \" + str(i))"
   ]
  },
  {
   "cell_type": "markdown",
   "metadata": {},
   "source": [
    "A very similar pattern is seen when elevating a number to a given power: we keep multiplying the current power by the base until we have done it as many times as the exponent states:"
   ]
  },
  {
   "cell_type": "code",
   "execution_count": 16,
   "metadata": {},
   "outputs": [
    {
     "name": "stdout",
     "output_type": "stream",
     "text": [
      "insert the base\n",
      "2\n",
      "insert the exponent\n",
      "5\n",
      "2^5 -> 32\n"
     ]
    }
   ],
   "source": [
    "b = int(input(\"insert the base\\n\"))\n",
    "n = int(input(\"insert the exponent\\n\"))\n",
    "i = 0\n",
    "m = 1\n",
    "while i < n:\n",
    "  m = m * b\n",
    "  i = i + 1\n",
    "print(str(b) + \"^\" + str(n) + \" -> \" + str(i))"
   ]
  },
  {
   "cell_type": "markdown",
   "metadata": {},
   "source": [
    "As another, more articulated example, consider a calculator such as the one we have shown before, but this time with a significant improvement: the calculator keeps interacting with the user, even after a computation, until the user types `\"quit\"`:"
   ]
  },
  {
   "cell_type": "code",
   "execution_count": 17,
   "metadata": {},
   "outputs": [
    {
     "name": "stdout",
     "output_type": "stream",
     "text": [
      "insert the operation (+,-,*,/,neg,quit)\n",
      "+\n",
      "insert the first operand\n",
      "3\n",
      "insert the second operand\n",
      "2\n",
      "3+2 -> 5\n",
      "insert the operation (+,-,*,/,neg,quit)\n",
      "quit\n",
      "Quitting...\n"
     ]
    }
   ],
   "source": [
    "quit = False\n",
    "while not quit:\n",
    "    op = input(\"insert the operation (+,-,*,/,neg,quit)\\n\")\n",
    "    if op == \"+\":\n",
    "        n = int(input(\"insert the first operand\\n\"))\n",
    "        m = int(input(\"insert the second operand\\n\"))\n",
    "        res = n + m\n",
    "        print(str(n) + op + str(m) + \" -> \" + str(res))\n",
    "    elif op == \"-\":\n",
    "        n = int(input(\"insert the first operand\\n\"))\n",
    "        m = int(input(\"insert the second operand\\n\"))\n",
    "        res = n - m\n",
    "        print(str(n) + op + str(m) + \" -> \" + str(res))\n",
    "    elif op == \"*\":\n",
    "        n = int(input(\"insert the first operand\\n\"))\n",
    "        m = int(input(\"insert the second operand\\n\"))\n",
    "        res = n * m\n",
    "        print(str(n) + op + str(m) + \" -> \" + str(res))\n",
    "    elif op == \"/\":\n",
    "        n = int(input(\"insert the first operand\\n\"))\n",
    "        m = int(input(\"insert the second operand\\n\"))\n",
    "        res = n // m\n",
    "        print(str(n) + op + str(m) + \" -> \" + str(res))\n",
    "    elif op == \"neg\":\n",
    "        n = int(input(\"insert the only operand\\n\"))\n",
    "        res = -n\n",
    "        print(\"neg(\" + str(n) + \") -> \" + str(res))\n",
    "    elif op == \"quit\":\n",
    "        quit = True\n",
    "        print(\"Quitting...\")\n",
    "    else:\n",
    "        print(\"Operation \" + str(op) + \" is not recognized.\")"
   ]
  }
 ],
 "metadata": {
  "kernelspec": {
   "display_name": "Python 3",
   "language": "python",
   "name": "python3"
  },
  "language_info": {
   "codemirror_mode": {
    "name": "ipython",
    "version": 3
   },
   "file_extension": ".py",
   "mimetype": "text/x-python",
   "name": "python",
   "nbconvert_exporter": "python",
   "pygments_lexer": "ipython3",
   "version": "3.5.2"
  }
 },
 "nbformat": 4,
 "nbformat_minor": 1
}
