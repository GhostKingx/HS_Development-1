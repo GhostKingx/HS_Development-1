{
 "cells": [
  {
   "cell_type": "markdown",
   "metadata": {},
   "source": [
    "# A bit of problem-solving in Python"
   ]
  },
  {
   "cell_type": "markdown",
   "metadata": {},
   "source": [
    "In this chapter we will build some simple programs according to some specifications which are non-trivial (that is, it is not immediately intuitive how the program is written) but at the same time also not particularly complex: the solution is a few lines of code.\n",
    "\n",
    "The problem we will try to solve is that of drawing some simple figures on the console by putting strings together. We choose this sort of problem, because it has some immediate advantages. The first, and foremost, is that everybody understands the problem, and no domain-specific knowledge is required. Then, the problem is (per definition) easy to visualize: the result itself is _visual_. Finally, we want to help foster the intuition that there is a relationship between the problem and the code that provides a solution to it, which is almost visual in nature. There will be a one-to-one relationship between the parts that make up the problem definition, and the parts that make up the solution. We hope to make this link more intuitive by connecting code structures to something visible.\n",
    "\n",
    "Moreover, drawing figures is an excellent way to get accustomed with nested loops and conditionals, patterns which are ubiquitous in modern programming.\n",
    "\n",
    "\n",
    "## Lines\n",
    "We start with drawing lines. The problem will be to produce (and optionally also print) a string made out of a series of alternating `\"*\"` and `\"+\"` characters. The number of characters is given by the user's input. This leads us to a table of questions/answers looking like:\n",
    "\n",
    "Question  |  Answer\n",
    ":--------:|:--------:\n",
    "   `0`    |   `\"\"`\n",
    "   `1`    |   `\"*\"`\n",
    "   `2`    |   `\"*+\"`   \n",
    "   `3`    |   `\"*+*\"`   \n",
    " $\\vdots$ | $\\vdots$\n",
    " \n",
    "Let us call $P_n$ the program that solves the problem for input $n$, that is:\n",
    "\n",
    "$$(P_n,\\{\\}) \\rightsquigarrow (<\\text{done}>, \\{ s := \\underbrace{\\text{\"*...*\"}}_{n \\text{ times}} \\})$$\n",
    "\n",
    "where the squiggly arrow $\\rightsquigarrow$ denotes the potentially many steps needed for the program to complete.\n",
    "\n",
    "We can define $P_0$ easily as `s = \"\"`. Then, we can study the difference between two subsequent steps:\n",
    "\n",
    "$$P_{n+1} = P_{n}; \\Delta_{P_n}$$\n",
    "\n",
    "Depending on the step, the difference step will be different: some $\\Delta_{P_n}$ will add a star, some will add a cross, depending on $n$. Specifically, when $n$ is odd then $\\Delta_{P_n}$ adds a star, whereas when $n$ is even then $\\Delta_{P_n}$ adds a cross:\n",
    "\n",
    "\\begin{align*}\n",
    "  \\Delta_{P_n} &=& \\text{s := s + \"*\"} & \\text{ when } n \\text{ is odd}  \\\\\n",
    "               &=& \\text{s := s + \"+\"} & \\text{ when } n \\text{ is even}  \\\\\n",
    "\\end{align*}\n",
    "\n",
    "This means that the implementation of $\\Delta_{P_n}$ will be based on a conditional statement, based on whether or not $n$ is even:\n",
    "\n",
    "```\n",
    "if n % 2 == 1 then\n",
    "  s := s + \"*\"\n",
    "else\n",
    "  s := s + \"+\"\n",
    "```\n",
    "\n",
    "The final solution is then $P_0; \\Delta_{P_0}; \\Delta_{P_1} \\dots \\Delta_{P_n}$, that is $P_0$, followed by $\\Delta_{P_i}$ repeated for $i$ from $0$ to $n$:"
   ]
  },
  {
   "cell_type": "code",
   "execution_count": null,
   "metadata": {
    "collapsed": true
   },
   "outputs": [],
   "source": [
    "n = int(input())\n",
    "s = \"\"\n",
    "while n > 0:\n",
    "  if n % 2 == 1:\n",
    "    s = s + \"*\"\n",
    "  else:\n",
    "    s = s + \"+\"\n",
    "  n = n - 1\n",
    "print(s)"
   ]
  },
  {
   "cell_type": "markdown",
   "metadata": {},
   "source": [
    "## Squares\n",
    "Let us now add a new dimension to our problem: let us draw squares, our first two-dimensional figures. Our goal is to produce a square filled with $n \\times n$ asterisks, leading us to a question/answer table such as:\n",
    "\n",
    "Question  |  Answer      \n",
    ":--------:|:----------:\n",
    "   `0`    |   `\"\"`          \n",
    "   `1`    |   `\"*\"`      \n",
    "   `2`    |   `\"**\\n**\\n\"`   \n",
    "   `3`    |   `\"***\\n***\\n***\\n\"`   \n",
    " $\\vdots$ | $\\vdots$\n",
    " \n",
    "where we should remember that the character `\\n` goes to a new line, thus the string `\"**\\n**\\n\"` corresponds to the following drawing: \n",
    " \n",
    "```\n",
    "**\n",
    "**\n",
    "```\n",
    "\n",
    "We might consider the hypothesis of defining $P_n$ as the program that builds a square of size $n \\times n$, and then define $\\Delta_n$ as the program which adds one row and one column. Unfortunately, since we are building strings, we cannot just add new columns to previously written rows: there is no reasonably simple way to transform a string such as:\n",
    "\n",
    "```\n",
    "***\n",
    "***\n",
    "***\n",
    "```\n",
    "\n",
    "into, for example,\n",
    "\n",
    "```\n",
    "***A\n",
    "***B\n",
    "***C\n",
    "DDDD\n",
    "```\n",
    "\n",
    "The characters `C\\nDDDD` can be easily added, since string concatenation (therefore adding to the beginning or the end of a string) is always possible. Characters `A` and `B` are much more problematic: they would need to be added to the middle of the string, and this is not an easy feat.\n",
    "\n",
    "For this reason, we will define our partial solutions in a different manner. Let us define $P_i$ to be the program that creates a rectangle with $i$ rows, each made up of $n$ asterisks. We already know how to create a single row of asterisks, so we do not have to worry too much about the individual row. Thus, we simply say that $\\Delta$ is just the program adding a row of $n$ asterisks.\n",
    "\n",
    "This leads us to the definition of our solving program: $P_0; \\text{repeat (} \\Delta \\text{; s := s + \"\\n\") } n \\text{ times}$, or shorter yet: $P_0; (\\Delta \\text{; s := s + \"\\n\" })^n$.\n",
    "\n",
    "Let us refine this into code as follows:\n",
    "\n",
    "```\n",
    "n := int(input())\n",
    "s := \"\"\n",
    "while n > 0 do\n",
    "  ... here goes Delta ...\n",
    "  s := s + \"\\n\"\n",
    "  n := n - 1\n",
    "```\n",
    "\n",
    "At this point, we might feel the need to test this program. It already does something, which is akin to the skeleton of our solution, and we would like to make sure to see that the basics make sense. To quickly be able to test, instead of finishing the whole program (bugs will then be difficult to spot!), we use a placeholder for $\\Delta$ (such a placeholder is often called a _mock_): "
   ]
  },
  {
   "cell_type": "code",
   "execution_count": 2,
   "metadata": {},
   "outputs": [
    {
     "name": "stdout",
     "output_type": "stream",
     "text": [
      "3\n",
      "Delta3\n",
      "Delta2\n",
      "Delta1\n",
      "\n"
     ]
    }
   ],
   "source": [
    "n = int(input())\n",
    "s = \"\"\n",
    "while n > 0:\n",
    "  s = s + \"Delta\" + str(n)\n",
    "  s = s + \"\\n\"\n",
    "  n = n - 1\n",
    "print(s)"
   ]
  },
  {
   "cell_type": "markdown",
   "metadata": {},
   "source": [
    "We can immediately see that the program correctly assembles the rows, even if the rows themselves are placeholders.\n",
    "\n",
    "We can then define the actual row, and use it instead of the placeholder, finally obtaining the desired program:"
   ]
  },
  {
   "cell_type": "code",
   "execution_count": 5,
   "metadata": {},
   "outputs": [
    {
     "name": "stdout",
     "output_type": "stream",
     "text": [
      "4\n",
      "****\n",
      "****\n",
      "****\n",
      "****\n",
      "\n"
     ]
    }
   ],
   "source": [
    "n = int(input())\n",
    "n_0 = n\n",
    "s = \"\"\n",
    "while n > 0:\n",
    "\n",
    "  m = n_0\n",
    "  while m > 0:\n",
    "    s = s + \"*\"\n",
    "    m = m - 1\n",
    "\n",
    "  s = s + \"\\n\"\n",
    "  n = n - 1\n",
    "print(s)"
   ]
  },
  {
   "cell_type": "markdown",
   "metadata": {},
   "source": [
    "### Empty square\n",
    "As a simple variation to the square we have just built, let us now build a program that prints an empty square. An empty square of size $4 \\times 4$ would look like:\n",
    "\n",
    "```\n",
    "****\n",
    "*  *\n",
    "*  *\n",
    "****\n",
    "```\n",
    "\n",
    "By decomposing per row, we could notice that such a square of size $n \\times n$ is made up of a full row (we know how to build this!), a series of $n - 2$ \"empty\" rows, followed by another full row.\n",
    "\n",
    "Let us then define $\\Delta_F$ as the program that builds a full row, $\\Delta_E$ as the program that builds an empty row, and $P_0$ as the initialisation of the empty string. The final solution therefore becomes\n",
    "\n",
    "$P_0; \\Delta_F \\text{; s := s + \"\\n\";} (\\Delta_E \\text{; s := s + \"\\n\" })^{n-2}; \\Delta_F \\text{; s := s + \"\\n\" }$\n",
    "\n",
    "Let us translate this into the structure of our solution:\n",
    "\n",
    "```\n",
    "n := int(input())\n",
    "s := \"\"\n",
    "\n",
    "... Delta_F...\n",
    "s := s + \"\\n\"\n",
    "\n",
    "while n > 2 do\n",
    "  ... here goes Delta_E ...\n",
    "  s := s + \"\\n\"\n",
    "  n := n - 1\n",
    "\n",
    "... Delta_F...  \n",
    "s := s + \"\\n\"\n",
    "```\n",
    "\n",
    "Again, since there is already quite a lot that could go wrong in such a program, let us try it out with mocks for $\\Delta_E$ and $\\Delta_F$:"
   ]
  },
  {
   "cell_type": "code",
   "execution_count": 1,
   "metadata": {},
   "outputs": [
    {
     "name": "stdout",
     "output_type": "stream",
     "text": [
      "4\n",
      "Delta_F\n",
      "Delta_E4\n",
      "Delta_E3\n",
      "Delta_F\n",
      "\n"
     ]
    }
   ],
   "source": [
    "n = int(input())\n",
    "s = \"\"\n",
    "\n",
    "s = s + \"Delta_F\"\n",
    "s = s + \"\\n\"\n",
    "\n",
    "while n > 2:\n",
    "  s = s + \"Delta_E\" + str(n)\n",
    "  s = s + \"\\n\"\n",
    "  n = n - 1\n",
    "\n",
    "s = s + \"Delta_F\"\n",
    "s = s + \"\\n\"\n",
    "\n",
    "print(s)"
   ]
  },
  {
   "cell_type": "markdown",
   "metadata": {},
   "source": [
    "Now all that remains to be done is adding the code for $\\Delta_F$ and $\\Delta_E$. At this point, $\\Delta_F$ is already well understood, whereas $\\Delta_E$ is still a bit of a mistery. Fortunately, it is not a difficult mistery. We can observe that an empty row of length $n$ is made up of one asterisk, followed by $n-2$ blank spaces, and finally by yet another asterisk at the end. So, we could say that $\\Delta_F$ is no more than $\\text{s := s + \"*\"; }(\\text{s := s + \" \"})^{n-2}\\text{;s := s + \"*\"}$. We could test our hypothesis in isolation, in order to test our ideas on how $\\Delta_E$ is built:"
   ]
  },
  {
   "cell_type": "code",
   "execution_count": 10,
   "metadata": {},
   "outputs": [
    {
     "name": "stdout",
     "output_type": "stream",
     "text": [
      "10\n",
      "*        *\n"
     ]
    }
   ],
   "source": [
    "n = int(input())\n",
    "s = \"\"\n",
    "\n",
    "s = s + \"*\"\n",
    "while n > 2:\n",
    "  s = s + \" \"\n",
    "  n = n - 1\n",
    "s = s + \"*\"\n",
    "\n",
    "print(s)"
   ]
  },
  {
   "cell_type": "markdown",
   "metadata": {},
   "source": [
    "We can thus finally assemble all the pieces into the final solution:"
   ]
  },
  {
   "cell_type": "code",
   "execution_count": 12,
   "metadata": {},
   "outputs": [
    {
     "name": "stdout",
     "output_type": "stream",
     "text": [
      "10\n",
      "**********\n",
      "*        *\n",
      "*        *\n",
      "*        *\n",
      "*        *\n",
      "*        *\n",
      "*        *\n",
      "*        *\n",
      "*        *\n",
      "**********\n",
      "\n"
     ]
    }
   ],
   "source": [
    "n = int(input())\n",
    "n_0 = n\n",
    "s = \"\"\n",
    "\n",
    "j = n_0\n",
    "while j > 0:\n",
    "  s = s + \"*\"\n",
    "  j = j - 1\n",
    "s = s + \"\\n\"\n",
    "\n",
    "while n > 2:\n",
    "    \n",
    "  s = s + \"*\"\n",
    "  j = n_0\n",
    "  while j > 2:\n",
    "    s = s + \" \"\n",
    "    j = j - 1\n",
    "  s = s + \"*\"\n",
    "    \n",
    "  s = s + \"\\n\"\n",
    "  n = n - 1\n",
    "\n",
    "j = n_0\n",
    "while j > 0:\n",
    "  s = s + \"*\"\n",
    "  j = j - 1\n",
    "s = s + \"\\n\"\n",
    "\n",
    "print(s)"
   ]
  },
  {
   "cell_type": "markdown",
   "metadata": {},
   "source": [
    "The program above looks reasonable, but it can be improved stylistically. If we compare the code above with our specification\n",
    "\n",
    "$$P_0; \\Delta_F \\text{; s := s + \"\\n\";} (\\Delta_E \\text{; s := s + \"\\n\" })^{n-2}; \\Delta_F \\text{; s := s + \"\\n\" }$$\n",
    "\n",
    "then the specification is almost lost in the implementation. Let us try to adjust our program so that it features less repetition and so that the specification is visible. In order to achieve this, we could use a simple trick: we could define appropriate variables to store an empty row and a full row, and then assemble those. This way, we achieve a more elegant program which better reflects the underlying structure of the program: "
   ]
  },
  {
   "cell_type": "code",
   "execution_count": 24,
   "metadata": {},
   "outputs": [
    {
     "name": "stdout",
     "output_type": "stream",
     "text": [
      "1\n",
      "*\n",
      "*\n",
      "\n"
     ]
    }
   ],
   "source": [
    "n = int(input())\n",
    "s = \"\"\n",
    "\n",
    "full_row = \"\"\n",
    "j = n\n",
    "while j > 0:\n",
    "  full_row = full_row + \"*\"\n",
    "  j = j - 1\n",
    "\n",
    "empty_row = \"\"\n",
    "empty_row = empty_row + \"*\"\n",
    "j = n\n",
    "while j > 2:\n",
    "  empty_row = empty_row + \" \"\n",
    "  j = j - 1\n",
    "empty_row = empty_row + \"*\"\n",
    "\n",
    "s = s + full_row + \"\\n\"\n",
    "while n > 2:\n",
    "  s = s + empty_row + \"\\n\"\n",
    "  n = n - 1\n",
    "\n",
    "s = s + full_row + \"\\n\"\n",
    "\n",
    "print(s)"
   ]
  },
  {
   "cell_type": "markdown",
   "metadata": {},
   "source": [
    "One last, minor adjustment. As you can see in the output above (two rows made by one asterisk each, when the input is 1), our program does not (yet) produce the correct result for an input smaller than $2$. Instead of making our program much more complex, we can simply perform a check to short-circuit the program when the input is $0$ or $1$:"
   ]
  },
  {
   "cell_type": "code",
   "execution_count": 30,
   "metadata": {},
   "outputs": [
    {
     "name": "stdout",
     "output_type": "stream",
     "text": [
      "4\n",
      "****\n",
      "*  *\n",
      "*  *\n",
      "****\n",
      "\n"
     ]
    }
   ],
   "source": [
    "n = int(input())\n",
    "s = \"\"\n",
    "if n <= 0:\n",
    "  s = s + \"\"\n",
    "elif n == 1:\n",
    "  s = s + \"*\"\n",
    "else:\n",
    "    full_row = \"\"\n",
    "    j = n\n",
    "    while j > 0:\n",
    "      full_row = full_row + \"*\"\n",
    "      j = j - 1\n",
    "\n",
    "    empty_row = \"\"\n",
    "    empty_row = empty_row + \"*\"\n",
    "    j = n\n",
    "    while j > 2:\n",
    "      empty_row = empty_row + \" \"\n",
    "      j = j - 1\n",
    "    empty_row = empty_row + \"*\"\n",
    "\n",
    "    s = s + full_row + \"\\n\"\n",
    "    while n > 2:\n",
    "      s = s + empty_row + \"\\n\"\n",
    "      n = n - 1\n",
    "\n",
    "    s = s + full_row + \"\\n\"\n",
    "\n",
    "print(s)"
   ]
  },
  {
   "cell_type": "markdown",
   "metadata": {
    "collapsed": true
   },
   "source": [
    "## Triangles\n",
    "\n",
    "Let us introduce an element of variation in our programs by drawing triangles. Simple triangles, such as (for $n=4$):\n",
    "\n",
    "```\n",
    "*\n",
    "**\n",
    "***\n",
    "****\n",
    "```\n",
    "\n",
    "offer us an interesting new benchmark, because rows now differ from each other. Moreover, the position of the row determines its content: the _first_ row contains _one_ asterisk, the _second_ row contains _two_, and so on.\n",
    "\n",
    "Let us, as it has now become a habit, define the following:\n",
    "\n",
    "- $T_n$ is the program that creates a triangle with $n$ rows;\n",
    "- $R_w$ is the program that creates a single row of width $w$.\n",
    "\n",
    "We can easily see that $T_0 = \\text{s = \"\"}$. Then, given program $T_n$, we can construct $T_{n+1}$ by simply adding a row of the appropriate length after $T_n$, that is: $T_{n+1} = T_n; R_{n+1}; \\text{s := s + \"\\n\"}$. By repeated substitution of $T_n$ in the previous formula, we obtain:\n",
    "\n",
    "$$T_n = T_0; R_1; \\text{s := s + \"\\n\"}; R_2; \\text{s := s + \"\\n\"}; \\dots; R_n; \\text{s := s + \"\\n\"}$$\n",
    "\n",
    "Which we could also rewrite as a summation as follows:\n",
    "\n",
    "$$T_n = T_0; \\sum_{i=1}^n (R_i; \\text{s := s + \"\\n\"}) $$\n",
    "\n",
    "The program $R_i$ is our usual series of asterisks, so we do not need to worry about it. The sequence of rows, on the other hand, is our first concern. We translate the specification above to the following program structure:\n",
    "\n",
    "```\n",
    "n := int(input())\n",
    "s := \"\"\n",
    "j := 0\n",
    "while j < n do\n",
    "  s := s + \"row\" + str(j+1)\n",
    "  s := s + \"\\n\"\n",
    "  j := j + 1\n",
    "```\n",
    "\n",
    "which we test in Python as follows:"
   ]
  },
  {
   "cell_type": "code",
   "execution_count": 39,
   "metadata": {},
   "outputs": [
    {
     "name": "stdout",
     "output_type": "stream",
     "text": [
      "3\n",
      "row1\n",
      "row2\n",
      "row3\n",
      "\n"
     ]
    }
   ],
   "source": [
    "n = int(input())\n",
    "s = \"\"\n",
    "j = 0\n",
    "while j < n:\n",
    "  s = s + \"row\" + str(j+1)\n",
    "  s = s + \"\\n\"\n",
    "  j = j + 1\n",
    "print(s)"
   ]
  },
  {
   "cell_type": "markdown",
   "metadata": {},
   "source": [
    "Our last concern is drawing each row, but this should come quite easily now:"
   ]
  },
  {
   "cell_type": "code",
   "execution_count": 42,
   "metadata": {},
   "outputs": [
    {
     "name": "stdout",
     "output_type": "stream",
     "text": [
      "5\n",
      "*\n",
      "**\n",
      "***\n",
      "****\n",
      "*****\n",
      "\n"
     ]
    }
   ],
   "source": [
    "n = int(input())\n",
    "s = \"\"\n",
    "j = 0\n",
    "while j < n:\n",
    "  i = 0\n",
    "  while i < j + 1:\n",
    "    s = s + \"*\"\n",
    "    i = i + 1\n",
    "  s = s + \"\\n\"\n",
    "  j = j + 1\n",
    "print(s)"
   ]
  },
  {
   "cell_type": "markdown",
   "metadata": {},
   "source": [
    "### Pyramids\n",
    "Let us close this chapter with one last challenge: drawing a pyramid. A pyramid for $n = 4$ would like as follows:\n",
    "\n",
    "```\n",
    "   *\n",
    "  ***\n",
    " *****\n",
    "*******\n",
    "```\n",
    "\n",
    "At a first glance, it is again obvious that the pyramid requires, just like all other figures so far, the drawing of a series of rows. Each row is different: the _first_ row contains _one_ asterisk, the _second_ row contains _three_ asterisks, the _third_ row contains _five_ asterisks, and so on.\n",
    "\n",
    "This means that the row in position $i$ (so _first_ means $i=0$, _second_ means $i=1$, etc.) will contain $i \\times 2 + 1$ asterisks, as can be seen in the following table:\n",
    "\n",
    " $i$ | $i \\times 2 + 1$\n",
    ":---:|:--------:\n",
    "  $0$  |  $1$\n",
    "  $1$  |  $3$\n",
    "  $2$  |  $5$\n",
    "  $3$  |  $7$\n",
    "  $\\vdots$ | $\\vdots$\n",
    "  \n",
    "Before the asterisks, each row also features a series of spaces. The number of spaces decreases by one after each subsequent row. Specifically, the row in position $i$ contains $n-i-1$ spaces. If you think about it, the last row is in position $i = n - 1$ and should contain 0 spaces: in fact, $n-i-1$ when $i=n-1$ becomes $n-(n-1)-1=n+n+1-1=0$ (and that is what we want, 0 spaces in the last row).  \n",
    "\n",
    "Let us define $T_n$ to be the program that fills in our pyramid with $n$ rows.\n",
    "\n",
    "This gives us the following specification for a row: $R_i = S_i; A_i$, where $S_i = (\\text{s := s + \" \"})^{n-i-1}$ and $A_i = (\\text{s := s + \"*\"})^{i \\times 2 + 1}$.\n",
    "\n",
    "We can translate this with our usual mocks as follows:"
   ]
  },
  {
   "cell_type": "code",
   "execution_count": 45,
   "metadata": {},
   "outputs": [
    {
     "name": "stdout",
     "output_type": "stream",
     "text": [
      "4\n",
      "S_3 A_1\n",
      "S_2 A_3\n",
      "S_1 A_5\n",
      "S_0 A_7\n",
      "\n"
     ]
    }
   ],
   "source": [
    "n = int(input())\n",
    "s = \"\"\n",
    "j = 0\n",
    "while j < n:\n",
    "    s = s + \"S_\" + str(n-j-1) + \" A_\" + str(j * 2 + 1)\n",
    "    s = s + \"\\n\"\n",
    "    j = j + 1\n",
    "\n",
    "print(s)"
   ]
  },
  {
   "cell_type": "markdown",
   "metadata": {},
   "source": [
    "Armed with the confidence that our solution rests on solid ground, we can therefore build the final program:"
   ]
  },
  {
   "cell_type": "code",
   "execution_count": 46,
   "metadata": {},
   "outputs": [
    {
     "name": "stdout",
     "output_type": "stream",
     "text": [
      "5\n",
      "    *\n",
      "   ***\n",
      "  *****\n",
      " *******\n",
      "*********\n",
      "\n"
     ]
    }
   ],
   "source": [
    "n = int(input())\n",
    "s = \"\"\n",
    "j = 0\n",
    "while j < n:\n",
    "    i = 0\n",
    "    while i < n - j - 1:\n",
    "        s = s + \" \"\n",
    "        i = i + 1\n",
    "    i = 0\n",
    "    while i < j * 2 + 1:\n",
    "        s = s + \"*\"\n",
    "        i = i + 1\n",
    "    s = s + \"\\n\"\n",
    "    j = j + 1\n",
    "\n",
    "print(s)"
   ]
  }
 ],
 "metadata": {
  "kernelspec": {
   "display_name": "Python 3",
   "language": "python",
   "name": "python3"
  },
  "language_info": {
   "codemirror_mode": {
    "name": "ipython",
    "version": 3
   },
   "file_extension": ".py",
   "mimetype": "text/x-python",
   "name": "python",
   "nbconvert_exporter": "python",
   "pygments_lexer": "ipython3",
   "version": "3.6.1"
  }
 },
 "nbformat": 4,
 "nbformat_minor": 1
}
