{
 "cells": [
  {
   "cell_type": "markdown",
   "metadata": {},
   "source": [
    "# A bit of problem-solving in Python"
   ]
  },
  {
   "cell_type": "markdown",
   "metadata": {},
   "source": [
    "In this chapter we will build some simple programs according to some specifications which are non-trivial (that is, it is not immediately intuitive how the program is written) but at the same time also not particularly complex: the solution is a few lines of code.\n",
    "\n",
    "The problem we will try to solve is that of drawing some simple figures on the console by putting strings together. We choose this sort of problem, because it has some immediate advantages. The first, and foremost, is that everybody understands the problem, and no domain-specific knowledge is required. Then, the problem is (per definition) easy to visualize: the result itself is _visual_. FInally, we want to help foster the intuition that there is a relationship between the problem and the code that provides a solution to it which is almost visual in nature. There will be a one-to-one relationship between the parts that make up the problem definition, and the parts that make up the solution. We hope to make this link more intuitive by connecting code structures to something visible.\n",
    "\n",
    "Moreover, drawing figures is an excellent way to get accustomed with nested loops and conditionals, patterns which are ubiquitous in modern programming.\n",
    "\n",
    "\n",
    "## Lines\n",
    "We start with drawing lines. The problem will be to produce (and optionally also print) a string made out of a series of alternating `\"*\"` and `\"+\"` characters. The number of asterisks is given by the user's input. This leads us to a table of questions/answers looking like:\n",
    "\n",
    "Question  |  Answer\n",
    ":--------:|:--------:\n",
    "   `0`    |   `\"\"`\n",
    "   `1`    |   `\"*\"`\n",
    "   `2`    |   `\"*+\"`   \n",
    "   `3`    |   `\"*+*\"`   \n",
    " $\\vdots$ | $\\vdots$\n",
    " \n",
    "Let us call $P_n$ the program that solves the problem for input $n$, that is:\n",
    "\n",
    "$$(P_n,\\{\\}) \\rightsquigarrow (<\\text{done}>, \\{ s := \\underbrace{\\texttt{\"*...*\"}}_{n \\text{ times}} \\})$$\n",
    "\n",
    "where the squiggly arrow $\\rightsquigarrow$ denotes the potentially many steps needed for the program to complete.\n",
    "\n",
    "We can define $P_0$ easily as `s = \"\"`. Then, we can study the difference between two subsequent steps:\n",
    "\n",
    "$$P_{n+1} = P_{n}; \\Delta_{P_n}$$\n",
    "\n",
    "Depending on the step, the difference step will be different: some $\\Delta_{P_n}$ will add a star, some will add a cross, depending on $n$. Specifically, when $n$ is odd then $\\Delta_{P_n}$ adds a star, whereas when $n$ is even then $\\Delta_{P_n}$ adds a cross:\n",
    "\n",
    "\\begin{align*}\n",
    "  \\Delta_{P_n} &=& \\texttt{s := s + \"*\"} & \\ \\ \\text{ when } n \\text{ is odd}  \\\\\n",
    "               &=& \\texttt{s := s + \"+\"} & \\ \\ \\text{ when } n \\text{ is even}  \\\\\n",
    "\\end{align*}\n",
    "\n",
    "This means that the implementation of $\\Delta_{P_n}$ will be based on a conditional statement, based on whether or not `n` is even:\n",
    "\n",
    "```\n",
    "if n % 2 == 1 then\n",
    "  s := s + \"*\"\n",
    "else\n",
    "  s := s + \"+\"\n",
    "```\n",
    "\n",
    "The final solution is then $P_0; \\Delta_{P_0}; \\Delta_{P_1} \\dots \\Delta_{P_n}$, that is $P_0$, followed by $\\Delta_{P_i}$ repeated for $i$ from $0$ to $n$:"
   ]
  },
  {
   "cell_type": "code",
   "execution_count": null,
   "metadata": {
    "collapsed": true
   },
   "outputs": [],
   "source": [
    "n = int(input())\n",
    "s = \"\"\n",
    "while n > 0:\n",
    "  if n % 2 == 1:\n",
    "    s = s + \"*\"\n",
    "  else:\n",
    "    s = s + \"+\"\n",
    "  n = n - 1\n",
    "print(s)"
   ]
  },
  {
   "cell_type": "markdown",
   "metadata": {},
   "source": [
    "## Squares\n",
    "Let us now add a new dimension to our problem: let us draw squares, our first two-dimensional figures. Our goal is to produce a square filled with $n \\times n$ asterisks, leading us to a question/answer table such as:\n",
    "\n",
    "Question  |  Answer\n",
    ":--------:|:--------:\n",
    "   `0`    |   `\"\"`\n",
    "   `1`    |   `\"*\"`\n",
    "   `2`    |   `\"**\\n**\\n\"`   \n",
    "   `3`    |   `\"***\\n***\\n***\\n\"`   \n",
    " $\\vdots$ | $\\vdots$\n",
    "\n",
    "We might consider the hypothesis of defining $P_n$ as the program that builds a square of size $n \\times n$, and then define $\\Delta_n$ as the program which adds one row and one column. Unfortunately, since we are building strings, we cannot just add new columns to previously written rows: there is no reasonably simple way to transform a string such as:\n",
    "\n",
    "```\n",
    "***\n",
    "***\n",
    "***\n",
    "```\n",
    "\n",
    "into, for example,\n",
    "\n",
    "```\n",
    "***A\n",
    "***B\n",
    "***C\n",
    "```\n",
    "\n",
    "The character `C` can be easily added, since string concatenation (therefore adding to the beginning or the end of a string) is always possible. Characters `A` and `B` are much more problematic: they would need to be added to the middle of the string, and this is not an easy feat.\n",
    "\n",
    "For this reason, we will define our partial solutions in a different manner. Let us define $P_i$ to be the program that creates a rectangle with $i$ rows, each made up of $n$ asterisks. We already know how to create a single row of asterisks, so we do not have to worry too much about the individual row. Thus, we simply say that $\\Delta$ is just the program adding a row of $n$ asterisks.\n",
    "\n",
    "This leads us to the definition of our solving program: $P_0; \\text{repeat } \\Delta \\texttt{; s := s + \"\\n\" }n \\text{ times}$, or shorter yet: $P_0; (\\Delta \\texttt{; s := s + \"\\n\" })^n$.\n",
    "\n",
    "Let us refine this into code as follows:\n",
    "\n",
    "```\n",
    "n := int(input())\n",
    "s := \"\"\n",
    "while n > 0 do\n",
    "  ... here goes Delta ...\n",
    "  s := s + \"\\n\"\n",
    "  n := n - 1\n",
    "```\n",
    "\n",
    "At this point, we might feel the need to test this program. It already does something, which is akin to the skeleton of our solution, and we would like to make sure to see that the basics make sense. To quickly be able to test, instead of finishing the whole program (bugs will then be difficult to spot!), we use a placeholder for $\\Delta$ (such a placeholder is often called a _mock_): "
   ]
  },
  {
   "cell_type": "code",
   "execution_count": 2,
   "metadata": {},
   "outputs": [
    {
     "name": "stdout",
     "output_type": "stream",
     "text": [
      "3\n",
      "Delta3\n",
      "Delta2\n",
      "Delta1\n",
      "\n"
     ]
    }
   ],
   "source": [
    "n = int(input())\n",
    "s = \"\"\n",
    "while n > 0:\n",
    "  s = s + \"Delta\" + str(n)\n",
    "  s = s + \"\\n\"\n",
    "  n = n - 1\n",
    "print(s)"
   ]
  },
  {
   "cell_type": "markdown",
   "metadata": {},
   "source": [
    "We can immediately see that the program correctly assembles the rows, even if the rows themselves are placeholders.\n",
    "\n",
    "We can then define the actual row, and use it instead of the placeholder, finally obtaining the desired program:"
   ]
  },
  {
   "cell_type": "code",
   "execution_count": 5,
   "metadata": {},
   "outputs": [
    {
     "name": "stdout",
     "output_type": "stream",
     "text": [
      "4\n",
      "****\n",
      "****\n",
      "****\n",
      "****\n",
      "\n"
     ]
    }
   ],
   "source": [
    "n = int(input())\n",
    "n_0 = n\n",
    "s = \"\"\n",
    "while n > 0:\n",
    "\n",
    "  m = n_0\n",
    "  while m > 0:\n",
    "    s = s + \"*\"\n",
    "    m = m - 1\n",
    "\n",
    "  s = s + \"\\n\"\n",
    "  n = n - 1\n",
    "print(s)"
   ]
  },
  {
   "cell_type": "markdown",
   "metadata": {},
   "source": [
    "### Empty square\n",
    "As a simple variation to the square we have just built, let us now build a program that prints an empty square. An empty square of size $4 \\times 4$ would look like:\n",
    "\n",
    "```\n",
    "****\n",
    "*  *\n",
    "*  *\n",
    "****\n",
    "```\n",
    "\n",
    "By decomposing per row, we could notice that such a square of size $n \\times n$ is made up of a full row (we know how to build this!), a series of $n - 2$ \"empty\" rows, followed by another full row.\n",
    "\n",
    "Let us then define $\\Delta_F$ as the program that builds a full row, $\\Delta_E$ as the program that builds an empty row, and $P_0$ as the initialisation of the empty string. The final solution therefore becomes\n",
    "\n",
    "$P_0; \\Delta_F \\texttt{; s := s + \"\\n\";} (\\Delta_E \\texttt{; s := s + \"\\n\" })^{n-2}; \\Delta_F \\texttt{; s := s + \"\\n\" }$\n",
    "\n",
    "Let us translate this into the structure of our solution:\n",
    "\n",
    "```\n",
    "n := int(input())\n",
    "s := \"\"\n",
    "\n",
    "... Delta_E...\n",
    "s := s + \"\\n\"\n",
    "\n",
    "while n > 0 do\n",
    "  ... here goes Delta_F ...\n",
    "  s := s + \"\\n\"\n",
    "  n := n - 1\n",
    "\n",
    "... Delta_E...  \n",
    "s := s + \"\\n\"\n",
    "```\n",
    "\n",
    "Again, since there is already quite a lot that could go wrong in such a program, let us try it out with mocks for $\\Delta_E$ and $\\Delta_F$:"
   ]
  },
  {
   "cell_type": "code",
   "execution_count": 8,
   "metadata": {},
   "outputs": [
    {
     "name": "stdout",
     "output_type": "stream",
     "text": [
      "4\n",
      "Delta_E\n",
      "Delta_F4\n",
      "Delta_F3\n",
      "Delta_E\n",
      "\n"
     ]
    }
   ],
   "source": [
    "n = int(input())\n",
    "s = \"\"\n",
    "\n",
    "s = s + \"Delta_F\"\n",
    "s = s + \"\\n\"\n",
    "\n",
    "while n > 2:\n",
    "  s = s + \"Delta_E\" + str(n)\n",
    "  s = s + \"\\n\"\n",
    "  n = n - 1\n",
    "\n",
    "s = s + \"Delta_F\"\n",
    "s = s + \"\\n\"\n",
    "\n",
    "print(s)"
   ]
  },
  {
   "cell_type": "markdown",
   "metadata": {},
   "source": [
    "Now all that remains to be done is adding the code for $\\Delta_F$ and $\\Delta_E$. Fortunately, $\\Delta_F$ is already well understood, whereas $\\Delta_E$ is still a bit of a mistery. Fortunately, it is not a difficult mistery. We can observe that an empty row of length $n$ is made up of an asterisk, $n-2$ blank spaces, and yet another asterisk at the end. So, we could say that $\\Delta_F$ is no more than $\\texttt{s := s + \"*\"; }(\\texttt{s := s + \" \"})^{n-2}\\texttt{;s := s + \"*\"}$. We could test our hypothesis in isolation, in order to test our ideas on how $\\Delta_E$ is built:"
   ]
  },
  {
   "cell_type": "code",
   "execution_count": 10,
   "metadata": {},
   "outputs": [
    {
     "name": "stdout",
     "output_type": "stream",
     "text": [
      "10\n",
      "*        *\n"
     ]
    }
   ],
   "source": [
    "n = int(input())\n",
    "s = \"\"\n",
    "\n",
    "s = s + \"*\"\n",
    "while n > 2:\n",
    "  s = s + \" \"\n",
    "  n = n - 1\n",
    "s = s + \"*\"\n",
    "\n",
    "print(s)"
   ]
  },
  {
   "cell_type": "markdown",
   "metadata": {},
   "source": [
    "We can thus finally assemble all the pieces into the final solution:"
   ]
  },
  {
   "cell_type": "code",
   "execution_count": 12,
   "metadata": {},
   "outputs": [
    {
     "name": "stdout",
     "output_type": "stream",
     "text": [
      "10\n",
      "**********\n",
      "*        *\n",
      "*        *\n",
      "*        *\n",
      "*        *\n",
      "*        *\n",
      "*        *\n",
      "*        *\n",
      "*        *\n",
      "**********\n",
      "\n"
     ]
    }
   ],
   "source": [
    "n = int(input())\n",
    "n_0 = n\n",
    "s = \"\"\n",
    "\n",
    "j = n_0\n",
    "while j > 0:\n",
    "  s = s + \"*\"\n",
    "  j = j - 1\n",
    "s = s + \"\\n\"\n",
    "\n",
    "while n > 2:\n",
    "    \n",
    "  s = s + \"*\"\n",
    "  j = n_0\n",
    "  while j > 2:\n",
    "    s = s + \" \"\n",
    "    j = j - 1\n",
    "  s = s + \"*\"\n",
    "    \n",
    "  s = s + \"\\n\"\n",
    "  n = n - 1\n",
    "\n",
    "j = n_0\n",
    "while j > 0:\n",
    "  s = s + \"*\"\n",
    "  j = j - 1\n",
    "s = s + \"\\n\"\n",
    "\n",
    "print(s)"
   ]
  },
  {
   "cell_type": "markdown",
   "metadata": {},
   "source": [
    "The program above looks reasonable, but it can be improved stylistically. If we compare the code above with our specification\n",
    "\n",
    "$$P_0; \\Delta_F \\texttt{; s := s + \"\\n\";} (\\Delta_E \\texttt{; s := s + \"\\n\" })^{n-2}; \\Delta_F \\texttt{; s := s + \"\\n\" }$$\n",
    "\n",
    "then the specification is almost lost in the implementation. Let us try to adjust our program so that it features less repetition and so that the specification is visible. In order to achieve this, we could use a simple trick: we could define appropriate variables to store an empty row and a full row, and then assemble those. This way, we achieve a more elegant program which better reflects the uunderlying structure of the program: "
   ]
  },
  {
   "cell_type": "code",
   "execution_count": 24,
   "metadata": {},
   "outputs": [
    {
     "name": "stdout",
     "output_type": "stream",
     "text": [
      "1\n",
      "*\n",
      "*\n",
      "\n"
     ]
    }
   ],
   "source": [
    "n = int(input())\n",
    "s = \"\"\n",
    "\n",
    "full_row = \"\"\n",
    "j = n\n",
    "while j > 0:\n",
    "  full_row = full_row + \"*\"\n",
    "  j = j - 1\n",
    "\n",
    "empty_row = \"\"\n",
    "empty_row = empty_row + \"*\"\n",
    "j = n\n",
    "while j > 2:\n",
    "  empty_row = empty_row + \" \"\n",
    "  j = j - 1\n",
    "empty_row = empty_row + \"*\"\n",
    "\n",
    "s = s + full_row + \"\\n\"\n",
    "while n > 2:\n",
    "  s = s + empty_row + \"\\n\"\n",
    "  n = n - 1\n",
    "\n",
    "s = s + full_row + \"\\n\"\n",
    "\n",
    "print(s)"
   ]
  },
  {
   "cell_type": "markdown",
   "metadata": {},
   "source": [
    "One last, minor adjustment. Our program does not (yet) produce the correct result for an input smaller than $2$. Instead of making our program much more complex, we can simply perform a check to short-circuit the program when the input is $0$ or $1$:"
   ]
  },
  {
   "cell_type": "code",
   "execution_count": 30,
   "metadata": {},
   "outputs": [
    {
     "name": "stdout",
     "output_type": "stream",
     "text": [
      "4\n",
      "****\n",
      "*  *\n",
      "*  *\n",
      "****\n",
      "\n"
     ]
    }
   ],
   "source": [
    "n = int(input())\n",
    "s = \"\"\n",
    "if n <= 0:\n",
    "  s = s + \"\"\n",
    "elif n == 1:\n",
    "  s = s + \"*\"\n",
    "else:\n",
    "    full_row = \"\"\n",
    "    j = n\n",
    "    while j > 0:\n",
    "      full_row = full_row + \"*\"\n",
    "      j = j - 1\n",
    "\n",
    "    empty_row = \"\"\n",
    "    empty_row = empty_row + \"*\"\n",
    "    j = n\n",
    "    while j > 2:\n",
    "      empty_row = empty_row + \" \"\n",
    "      j = j - 1\n",
    "    empty_row = empty_row + \"*\"\n",
    "\n",
    "    s = s + full_row + \"\\n\"\n",
    "    while n > 2:\n",
    "      s = s + empty_row + \"\\n\"\n",
    "      n = n - 1\n",
    "\n",
    "    s = s + full_row + \"\\n\"\n",
    "\n",
    "print(s)"
   ]
  },
  {
   "cell_type": "markdown",
   "metadata": {
    "collapsed": true
   },
   "source": [
    "## Triangles\n",
    "\n"
   ]
  },
  {
   "cell_type": "markdown",
   "metadata": {},
   "source": [
    "\n",
    "- let us move to a triangle (see figure below):\n",
    "    - to draw such a triangle, we must draw $n$ lines\n",
    "        - the first line has length $1$\n",
    "        - the second line has length $2$\n",
    "        - ...\n",
    "    - the skeleton program prints \"I should add a line of length 1\", \"I should add a line of length 2\", ...\n",
    "    - let us then add the code for the lines\n",
    "    - example figure for $n = 4$\n",
    "\n",
    "```\n",
    "*\n",
    "**\n",
    "***\n",
    "****\n",
    "```\n",
    "\n",
    "- the last figure we draw in this lecture is the pyramid (see figure below):\n",
    "    - this looks like a much more complex pattern\n",
    "    - let us count, per line, what needs to be drawn\n",
    "        - blank spaces, then stars\n",
    "        - every line draws one space less, and two stars more\n",
    "        - let us build the skeleton program that does this\n",
    "    - how about the starting number of blanks ($b$) and stars ($s$)?\n",
    "        - in the first line, the blanks are $n$, that is $b = n$\n",
    "        - moreover, $s = 1$, since the pyramid always has a single star on top\n",
    "    - let us now add the line drawing code\n",
    "    - example figure for $n = 4$\n",
    "\n",
    "```\n",
    "   *\n",
    "  ***\n",
    " *****\n",
    "*******\n",
    "```\n",
    "\n"
   ]
  }
 ],
 "metadata": {
  "kernelspec": {
   "display_name": "Python 3",
   "language": "python",
   "name": "python3"
  }
 },
 "nbformat": 4,
 "nbformat_minor": 1
}
