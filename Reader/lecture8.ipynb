{
 "cells": [
  {
   "cell_type": "markdown",
   "metadata": {},
   "source": [
    "# Declarative vs imperative styles"
   ]
  },
  {
   "cell_type": "markdown",
   "metadata": {},
   "source": [
    "So far in the course our only focus has been understanding code at a basic level, and building some functioning programs given a specification for the desired result. Even though we have not explored it directly, it is clear that, when faced with a problem, there are many ways to produce a program which encodes a valid solution to it. The issue that arises then becomes facing the choice of the various ways to solve the problem: which one is the best?\n",
    "\n",
    "In the rest of the chapter, we will focus on a meta-level discussion on two very common strategies that both lead to working solutions: the imperative and declarative styles of programming.\n",
    "\n",
    "We will continue to focus on drawing simple figures, once again not because of the inherent interest of the activity itself, but because this allows us to work with short code samples of moderate complexity and featuring a sometimes challenging combination of loops and conditionals. By mastering the drawing of figures, the reader will master code constructs and their combination, and be further able to apply it in a variety of different contexts.\n",
    "\n",
    "## Imperative\n",
    "We have already seen how to program imperatively. Imperative programming is based on the notion of telling the computer what to do, step by step, in the proper sequence. Following these instructions, the program reaches the desired end result. The order of evaluation is crucial, and this can be a source of mistakes: accidentally swapping the order of two (locally correct) blocks of code will, in most cases, lead to a bug.\n",
    "\n",
    "An example of this would be how we solved the problem of drawing an empty square: as a sequence of rows, in the proper order. This lead us to the following program outline:\n",
    "\n",
    "```\n",
    "draw a line of N \"*\"\n",
    "repeat N-2 times\n",
    "  draw \"*\"\n",
    "  draw a line of N-2 \" \"\n",
    "  draw \"*\"\n",
    "draw a line of N \"*\"\n",
    "```\n",
    "\n",
    "Each `draw a line` and the `repeat` become loops, and the translation into Python is quickly achieved.\n",
    "\n",
    "We have defined similar schemes for solving the various other drawing problems: both the triangle and the pyramid can be drawn as a sequence of rows, where the number of spaces and asterisks of the row is determined based on the sequence. A particulary interesting case could be that of a pyramid (for example of size $n$ = 4):\n",
    "\n",
    "```\n",
    "   *\n",
    "  ***\n",
    " *****\n",
    "*******\n",
    "```\n",
    "\n",
    "By observing the pyramid, we notice that the first row requires exactly $n$ symbols: $n-1$ spaces, followed by one single asterisk. At the next row, the number of spaces is decreased by one, whereas the number of asterisks grows by two, and so on. This can be translated directly (and trivially) into code as follows:"
   ]
  },
  {
   "cell_type": "code",
   "execution_count": 1,
   "metadata": {},
   "outputs": [
    {
     "name": "stdout",
     "output_type": "stream",
     "text": [
      "5\n",
      "    *\n",
      "   ***\n",
      "  *****\n",
      " *******\n",
      "*********\n",
      "\n"
     ]
    }
   ],
   "source": [
    "n = int(input())\n",
    "s = \"\"\n",
    "num_spaces = n-1\n",
    "num_asterisks = 1\n",
    "while num_spaces >= 0:\n",
    "    i = num_spaces\n",
    "    while i > 0:\n",
    "        s = s + \" \"\n",
    "        i = i - 1\n",
    "    i = num_asterisks\n",
    "    while i > 0:\n",
    "        s = s + \"*\"\n",
    "        i = i - 1 \n",
    "    s = s + \"\\n\"\n",
    "    num_spaces = num_spaces - 1\n",
    "    num_asterisks = num_asterisks + 2\n",
    "print(s)"
   ]
  },
  {
   "cell_type": "markdown",
   "metadata": {},
   "source": [
    "## Declarative\n",
    "Suppose now that we wanted to draw yet another figure: a circle. The circle is not really based on rows and columns, and it is very hard to determine how we could characterize a given row of a circle.\n",
    "\n",
    "On the other hand, we all know from high school that a point is inside a circle (therefore it is shown as an asterisk instead of a space) if its distance from the center of the circle is smaller or equal than the radius. Given that the center of the circle of radius $r$ is at $x_c, y_c$, then a point $x, y$ is inside the circle if \n",
    "\n",
    "$$\\text{dist}((x,y),(x_c,y_c)) \\leq r$$\n",
    "\n",
    "From Pythagoras' theorem, we know that the distance is defined as the square root of the squared differences of the points components. This leads us to the following formula:\n",
    "\n",
    "$$\\sqrt{(x-x_c)^2 + (y-y_c)^2} \\leq r$$\n",
    "\n",
    "We can skip the square root (it is quite a heavy calculation and it requires specialized libraries) by squaring both sides of the inequality:\n",
    "\n",
    "$$(x-x_c)^2 + (y-y_c)^2 \\leq r^2$$\n",
    "\n",
    "Given that we usually draw figures inside an $n \\times n$ square, the center of our circle will therefore be $(\\frac{n}{2},\\frac{n}{2})$. Also, the radius itself will be $\\frac{n}{2}$, since we want to draw the biggest possible circle we can fit in the square. This means that our comparison becomes:\n",
    "\n",
    "\n",
    "$$(x-n/2)^2 + (y-n/2)^2 \\leq (n/2)^2$$\n",
    "\n",
    "We must then simply go through all points $(x,y)$ and perform the check above. If the check is successful, then we add an asterisk, otherwise a space:"
   ]
  },
  {
   "cell_type": "code",
   "execution_count": 20,
   "metadata": {},
   "outputs": [
    {
     "name": "stdout",
     "output_type": "stream",
     "text": [
      "11\n",
      "           \n",
      "   ******  \n",
      "  ******** \n",
      " **********\n",
      " **********\n",
      " **********\n",
      " **********\n",
      " **********\n",
      " **********\n",
      "  ******** \n",
      "   ******  \n",
      "\n"
     ]
    }
   ],
   "source": [
    "n = int(input())\n",
    "s = \"\"\n",
    "y = 0\n",
    "while y < n:\n",
    "    x = 0\n",
    "    while x < n:\n",
    "        if (x-n/2) * (x-n/2) + (y-n/2) * (y-n/2) <= (n/2) * (n/2):\n",
    "            s = s + \"*\"\n",
    "        else:\n",
    "            s = s + \" \"\n",
    "        x = x + 1\n",
    "    s = s + \"\\n\"\n",
    "    y = y + 1\n",
    "print(s)"
   ]
  },
  {
   "cell_type": "markdown",
   "metadata": {},
   "source": [
    "The program we have just seen is our first instance of a declarative program. Instead of defining a figure as a series of drawing instructions (\"draw this\", \"then draw that\", etc.) we look for a property that identifies, given a pixel's position in the raster, what that pixel will look like.\n",
    "\n",
    "This property is the only thing that changes when we want to draw a new figure. Let us now consider another figure, the empty square. A pixel $(x,y)$ in an empty square of size $n \\times n$ will be an asterisk when we are on the first row ($y = 0$), the first column ($x = 0$), the last row ($y = n-1$), or the last column ($x = n-1$).\n",
    "\n",
    "We can reuse almost all of the code from the circle as follows:"
   ]
  },
  {
   "cell_type": "code",
   "execution_count": 2,
   "metadata": {},
   "outputs": [
    {
     "name": "stdout",
     "output_type": "stream",
     "text": [
      "10\n",
      "**********\n",
      "*        *\n",
      "*        *\n",
      "*        *\n",
      "*        *\n",
      "*        *\n",
      "*        *\n",
      "*        *\n",
      "*        *\n",
      "**********\n",
      "\n"
     ]
    }
   ],
   "source": [
    "n = int(input())\n",
    "s = \"\"\n",
    "y = 0\n",
    "while y < n:\n",
    "    x = 0\n",
    "    while x < n:\n",
    "        if x == 0 or x == n-1 or y == 0 or y == n-1:\n",
    "            s = s + \"*\"\n",
    "        else:\n",
    "            s = s + \" \"\n",
    "        x = x + 1\n",
    "    s = s + \"\\n\"\n",
    "    y = y + 1\n",
    "print(s)"
   ]
  },
  {
   "cell_type": "markdown",
   "metadata": {},
   "source": [
    "Notice that the only thing that changed between the empty square and the circle is the condition inside the second loop. This suggests that we have achieved a way to perform drawing of generic figures, by only specifying the fundamental _property_ that characterizes the figure itself and no more.\n",
    "\n",
    "This generic code could be seen as:\n",
    "\n",
    "```\n",
    "n = int(input())\n",
    "s = \"\"\n",
    "y = 0\n",
    "while y < n:\n",
    "    x = 0\n",
    "    while x < n:\n",
    "        if PROPERTY(x,y,n):\n",
    "            s = s + \"*\"\n",
    "        else:\n",
    "            s = s + \" \"\n",
    "        x = x + 1\n",
    "    s = s + \"\\n\"\n",
    "    y = y + 1\n",
    "```\n",
    "\n",
    "Where `PROPERTY(x,y,n)` denotes the property of pixel $(x,y)$ in an $n \\times n$ figure.\n",
    "\n",
    "We define **declarative programming** as a way to define the solution to a problem by means of a smaller piece of code embodying a property which can be used in multiple places of the solution without issues with order of evaluation and position of application."
   ]
  },
  {
   "cell_type": "markdown",
   "metadata": {
    "collapsed": true
   },
   "source": [
    "We can now play with more properties in order to get more figures. A full square simply corresponds to the `True` condition:"
   ]
  },
  {
   "cell_type": "code",
   "execution_count": 3,
   "metadata": {},
   "outputs": [
    {
     "name": "stdout",
     "output_type": "stream",
     "text": [
      "5\n",
      "*****\n",
      "*****\n",
      "*****\n",
      "*****\n",
      "*****\n",
      "\n"
     ]
    }
   ],
   "source": [
    "n = int(input())\n",
    "s = \"\"\n",
    "y = 0\n",
    "while y < n:\n",
    "    x = 0\n",
    "    while x < n:\n",
    "        if True:\n",
    "            s = s + \"*\"\n",
    "        else:\n",
    "            s = s + \" \"\n",
    "        x = x + 1\n",
    "    s = s + \"\\n\"\n",
    "    y = y + 1\n",
    "print(s)"
   ]
  },
  {
   "cell_type": "markdown",
   "metadata": {},
   "source": [
    "If we invert the condition, `False` is an \"invisible\" square:"
   ]
  },
  {
   "cell_type": "code",
   "execution_count": 6,
   "metadata": {},
   "outputs": [
    {
     "name": "stdout",
     "output_type": "stream",
     "text": [
      "3\n",
      "   \n",
      "   \n",
      "   \n",
      "\n"
     ]
    }
   ],
   "source": [
    "n = int(input())\n",
    "s = \"\"\n",
    "y = 0\n",
    "while y < n:\n",
    "    x = 0\n",
    "    while x < n:\n",
    "        if False:\n",
    "            s = s + \"*\"\n",
    "        else:\n",
    "            s = s + \" \"\n",
    "        x = x + 1\n",
    "    s = s + \"\\n\"\n",
    "    y = y + 1\n",
    "print(s)"
   ]
  },
  {
   "cell_type": "markdown",
   "metadata": {},
   "source": [
    "Triangles of all sorts are defined by inequalities such as $y \\geq x$, $y \\leq x$, etc:"
   ]
  },
  {
   "cell_type": "code",
   "execution_count": 1,
   "metadata": {},
   "outputs": [
    {
     "name": "stdout",
     "output_type": "stream",
     "text": [
      "5\n",
      "*    \n",
      "**   \n",
      "***  \n",
      "**** \n",
      "*****\n",
      "\n",
      "*****\n",
      " ****\n",
      "  ***\n",
      "   **\n",
      "    *\n",
      "\n"
     ]
    }
   ],
   "source": [
    "n = int(input())\n",
    "s = \"\"\n",
    "y = 0\n",
    "while y < n:\n",
    "    x = 0\n",
    "    while x < n:\n",
    "        if y >= x:\n",
    "            s = s + \"*\"\n",
    "        else:\n",
    "            s = s + \" \"\n",
    "        x = x + 1\n",
    "    s = s + \"\\n\"\n",
    "    y = y + 1\n",
    "print(s)\n",
    "\n",
    "s = \"\"\n",
    "y = 0\n",
    "while y < n:\n",
    "    x = 0\n",
    "    while x < n:\n",
    "        if y <= x:\n",
    "            s = s + \"*\"\n",
    "        else:\n",
    "            s = s + \" \"\n",
    "        x = x + 1\n",
    "    s = s + \"\\n\"\n",
    "    y = y + 1\n",
    "print(s)"
   ]
  }
 ],
 "metadata": {
  "kernelspec": {
   "display_name": "Python 3",
   "language": "python",
   "name": "python3"
  },
  "language_info": {
   "codemirror_mode": {
    "name": "ipython",
    "version": 3
   },
   "file_extension": ".py",
   "mimetype": "text/x-python",
   "name": "python",
   "nbconvert_exporter": "python",
   "pygments_lexer": "ipython3",
   "version": "3.6.1"
  }
 },
 "nbformat": 4,
 "nbformat_minor": 1
}
